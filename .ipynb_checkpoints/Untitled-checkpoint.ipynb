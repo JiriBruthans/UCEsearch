{
 "cells": [
  {
   "cell_type": "code",
   "execution_count": 1,
   "id": "7d53f5fa-8497-4b01-a055-34c43469dcf3",
   "metadata": {},
   "outputs": [],
   "source": [
    "import cellxgene_census as cxg\n",
    "from cellxgene_census.experimental import get_embedding\n",
    "import numpy as np\n",
    "import pinecone\n",
    "import os\n",
    "import os\n",
    "from pinecone import Pinecone, ServerlessSpec"
   ]
  },
  {
   "cell_type": "code",
   "execution_count": 2,
   "id": "0e1eb665-55bd-4849-baab-3886504af1e6",
   "metadata": {},
   "outputs": [],
   "source": [
    "embedding_uri = \\\n",
    "    \"s3://cellxgene-contrib-public/contrib/cell-census/soma/2023-12-15/CxG-contrib-2\"\n",
    "census = cxg.open_soma(census_version=\"2023-12-15\")"
   ]
  },
  {
   "cell_type": "code",
   "execution_count": 3,
   "id": "ae291f90-9c2d-4c0e-ad1d-d696bb021262",
   "metadata": {},
   "outputs": [],
   "source": [
    "adata = cxg.get_anndata(\n",
    "    census,\n",
    "    organism = \"homo_sapiens\",\n",
    "    measurement_name = \"RNA\",\n",
    "    obs_value_filter = \"tissue_general == 'central nervous system'\",\n",
    ")"
   ]
  },
  {
   "cell_type": "code",
   "execution_count": 4,
   "id": "f851435c-f430-4856-8529-6606bded31c6",
   "metadata": {},
   "outputs": [],
   "source": [
    "embeddings = get_embedding(\"2023-12-15\", embedding_uri, adata.obs[\"soma_joinid\"].to_numpy())\n",
    "adata.obsm[\"emb\"] = embeddings"
   ]
  },
  {
   "cell_type": "code",
   "execution_count": 5,
   "id": "d11d26fa-eb6f-4501-a856-18ff4c3d767d",
   "metadata": {},
   "outputs": [
    {
     "data": {
      "text/plain": [
       "array([ 0.00138092,  0.02929688, -0.03686523, ..., -0.0390625 ,\n",
       "       -0.04882812,  0.04174805], dtype=float32)"
      ]
     },
     "execution_count": 5,
     "metadata": {},
     "output_type": "execute_result"
    }
   ],
   "source": [
    "embeddings[0]"
   ]
  },
  {
   "cell_type": "code",
   "execution_count": 24,
   "id": "c2b51f9f-501e-4add-9b5d-4dc78352298f",
   "metadata": {},
   "outputs": [
    {
     "data": {
      "text/plain": [
       "array([[ 0.00138092,  0.02929688, -0.03686523, ..., -0.0390625 ,\n",
       "        -0.04882812,  0.04174805],\n",
       "       [ 0.04956055,  0.02282715,  0.01251221, ...,  0.00279236,\n",
       "        -0.07324219,  0.00604248],\n",
       "       [ 0.04492188,  0.01660156,  0.01348877, ...,  0.0045166 ,\n",
       "        -0.06396484,  0.00469971],\n",
       "       ...,\n",
       "       [-0.02648926, -0.00759888, -0.01031494, ..., -0.00421143,\n",
       "        -0.00964355,  0.04956055],\n",
       "       [-0.00291443,  0.00352478, -0.00982666, ..., -0.00866699,\n",
       "        -0.00866699,  0.04589844],\n",
       "       [ 0.015625  ,  0.01806641, -0.01507568, ..., -0.02087402,\n",
       "        -0.02209473,  0.04980469]], dtype=float32)"
      ]
     },
     "execution_count": 24,
     "metadata": {},
     "output_type": "execute_result"
    }
   ],
   "source": [
    "embeddings"
   ]
  },
  {
   "cell_type": "code",
   "execution_count": 17,
   "id": "49ee2ed3-b15c-4c8d-8490-320959edb55d",
   "metadata": {},
   "outputs": [],
   "source": [
    "def insert_first_20_embeddings_into_pinecone(embeddings):\n",
    "    # Ensure embeddings is a numpy array and has the correct shape\n",
    "    if not isinstance(embeddings, np.ndarray) or embeddings.ndim != 2:\n",
    "        raise ValueError(\"embeddings must be a 2D numpy array\")\n",
    "    \n",
    "    # Extract the first 20 embeddings\n",
    "    first_20_embeddings = embeddings[:20]\n",
    "    \n",
    "    # Set up Pinecone\n",
    "    pinecone_api_key = os.getenv('PINECONE_API_KEY')\n",
    "    pc = Pinecone(api_key=pinecone_api_key)\n",
    "\n",
    "    # Specify your Pinecone index name\n",
    "    index_name = 'uceindex'\n",
    "    \n",
    "    # Ensure your Pinecone index is created beforehand or create it if not exists\n",
    "    if index_name not in pc.list_indexes().names():\n",
    "        pc.create_index(\n",
    "            name=index_name,\n",
    "            dimension=first_20_embeddings.shape[1],  # Assuming all embeddings have the same dimension\n",
    "            metric='cosine',\n",
    "            spec=ServerlessSpec(\n",
    "                cloud='gcp-starter',  # Adjust cloud provider and region as per your setup\n",
    "                region='us-central1'\n",
    "            )\n",
    "        )\n",
    "    \n",
    "    # Connect to your Pinecone index\n",
    "    index = pc.Index(name=index_name)\n",
    "    \n",
    "    # Prepare the data for insertion\n",
    "    # Convert numpy array to list and generate IDs for each embedding\n",
    "    vectors = [(str(i), embedding.tolist()) for i, embedding in enumerate(first_20_embeddings, start=1)]\n",
    "    \n",
    "    # Insert the embeddings into Pinecone\n",
    "    index.upsert(vectors=vectors)\n",
    "    \n",
    "    print(\"First 20 embeddings inserted into Pinecone successfully.\")\n",
    "\n",
    "# Example usage\n",
    "# Assuming `embeddings` is your numpy array as described\n",
    "# insert_first_20_embeddings_into_pinecone(embeddings)\n"
   ]
  },
  {
   "cell_type": "code",
   "execution_count": 18,
   "id": "1bfe3891-1da9-4e32-b123-674ce88f9596",
   "metadata": {},
   "outputs": [
    {
     "name": "stdout",
     "output_type": "stream",
     "text": [
      "First 20 embeddings inserted into Pinecone successfully.\n"
     ]
    }
   ],
   "source": [
    "insert_first_20_embeddings_into_pinecone(embeddings)"
   ]
  },
  {
   "cell_type": "code",
   "execution_count": 13,
   "id": "144aafe1-090c-4a36-bd34-a840a2fed148",
   "metadata": {},
   "outputs": [],
   "source": [
    "def find_similar_embeddings(embedding):\n",
    "    # Set up Pinecone\n",
    "    pinecone_api_key = os.getenv('PINECONE_API_KEY')\n",
    "    pc = Pinecone(api_key=pinecone_api_key)\n",
    "\n",
    "    # Specify your Pinecone index name\n",
    "    index_name = 'uceindex'\n",
    "    \n",
    "    # Ensure the index exists\n",
    "    if index_name not in pc.list_indexes().names():\n",
    "        raise ValueError(f\"Index {index_name} does not exist. Please create the index before querying.\")\n",
    "    \n",
    "    # Connect to your Pinecone index\n",
    "    index = pc.Index(name=index_name)\n",
    "    \n",
    "    # Query the index for the 5 most similar embeddings\n",
    "    query_result = index.query(vector=[embedding.tolist()], top_k=5)\n",
    "    \n",
    "    # Extract the IDs of the most similar embeddings\n",
    "    similar_ids = [match[\"id\"] for match in query_result[\"matches\"]]\n",
    "    \n",
    "    return similar_ids\n",
    "\n",
    "# Example usage\n",
    "# Assuming `embedding` is a numpy array representing the embedding you want to query\n",
    "# similar_ids = find_similar_embeddings(embedding)\n",
    "# print(similar_ids)\n"
   ]
  },
  {
   "cell_type": "code",
   "execution_count": 14,
   "id": "880c2aec-908b-4502-a4d9-5d100e87096e",
   "metadata": {},
   "outputs": [
    {
     "data": {
      "text/plain": [
       "['1', '10', '11', '4', '3']"
      ]
     },
     "execution_count": 14,
     "metadata": {},
     "output_type": "execute_result"
    }
   ],
   "source": [
    "find_similar_embeddings(embeddings[0])"
   ]
  },
  {
   "cell_type": "code",
   "execution_count": 44,
   "id": "b37b78f5-19a6-47c5-bfad-b48959064576",
   "metadata": {},
   "outputs": [
    {
     "data": {
      "text/plain": [
       "array([ 0.00138092,  0.02929688, -0.03686523, ..., -0.0390625 ,\n",
       "       -0.04882812,  0.04174805], dtype=float32)"
      ]
     },
     "execution_count": 44,
     "metadata": {},
     "output_type": "execute_result"
    }
   ],
   "source": [
    "embeddings[0]"
   ]
  }
 ],
 "metadata": {
  "kernelspec": {
   "display_name": "Python 3 (ipykernel)",
   "language": "python",
   "name": "python3"
  },
  "language_info": {
   "codemirror_mode": {
    "name": "ipython",
    "version": 3
   },
   "file_extension": ".py",
   "mimetype": "text/x-python",
   "name": "python",
   "nbconvert_exporter": "python",
   "pygments_lexer": "ipython3",
   "version": "3.10.12"
  }
 },
 "nbformat": 4,
 "nbformat_minor": 5
}
