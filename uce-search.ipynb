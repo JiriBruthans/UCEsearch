{
 "cells": [
  {
   "cell_type": "code",
   "execution_count": 1,
   "id": "7d53f5fa-8497-4b01-a055-34c43469dcf3",
   "metadata": {},
   "outputs": [],
   "source": [
    "import cellxgene_census as cxg\n",
    "from cellxgene_census.experimental import get_embedding\n",
    "import numpy as np\n",
    "import pinecone\n",
    "import os\n",
    "import os\n",
    "from pinecone import Pinecone, ServerlessSpec"
   ]
  },
  {
   "cell_type": "code",
   "execution_count": 2,
   "id": "0e1eb665-55bd-4849-baab-3886504af1e6",
   "metadata": {},
   "outputs": [],
   "source": [
    "embedding_uri = \\\n",
    "    \"s3://cellxgene-contrib-public/contrib/cell-census/soma/2023-12-15/CxG-contrib-2\"\n",
    "census = cxg.open_soma(census_version=\"2023-12-15\")"
   ]
  },
  {
   "cell_type": "code",
   "execution_count": 3,
   "id": "ae291f90-9c2d-4c0e-ad1d-d696bb021262",
   "metadata": {},
   "outputs": [],
   "source": [
    "adata = cxg.get_anndata(\n",
    "    census,\n",
    "    organism = \"homo_sapiens\",\n",
    "    measurement_name = \"RNA\",\n",
    "    obs_value_filter = \"tissue_general == 'central nervous system'\",\n",
    ")"
   ]
  },
  {
   "cell_type": "code",
   "execution_count": 4,
   "id": "f851435c-f430-4856-8529-6606bded31c6",
   "metadata": {},
   "outputs": [],
   "source": [
    "embeddings = get_embedding(\"2023-12-15\", embedding_uri, adata.obs[\"soma_joinid\"].to_numpy())\n",
    "adata.obsm[\"emb\"] = embeddings"
   ]
  },
  {
   "cell_type": "code",
   "execution_count": 23,
   "id": "76638f7a-d75e-4112-8afa-e6297d54d383",
   "metadata": {},
   "outputs": [],
   "source": [
    "lst = []\n",
    "for i in adata.obs.cell_type:\n",
    "    if i not in lst:\n",
    "        lst.append(i)"
   ]
  },
  {
   "cell_type": "code",
   "execution_count": 24,
   "id": "eb262f4d-20f5-4be4-9421-2d15109285cc",
   "metadata": {},
   "outputs": [],
   "source": [
    "cell_dict = {}\n",
    "for cell_type in lst:\n",
    "    indices = adata.obs[adata.obs.cell_type == cell_type].index[:5]\n",
    "    for idx in indices:\n",
    "        cell_dict[idx] = cell_type"
   ]
  },
  {
   "cell_type": "code",
   "execution_count": 39,
   "id": "c1c13d62-b1d5-4375-925a-ee676786a0de",
   "metadata": {},
   "outputs": [
    {
     "data": {
      "text/plain": [
       "{'0': 'ependymal cell',\n",
       " '9': 'ependymal cell',\n",
       " '10': 'ependymal cell',\n",
       " '271': 'ependymal cell',\n",
       " '295': 'ependymal cell',\n",
       " '1': 'astrocyte',\n",
       " '2': 'astrocyte',\n",
       " '3': 'astrocyte',\n",
       " '4': 'astrocyte',\n",
       " '5': 'astrocyte',\n",
       " '792': 'oligodendrocyte',\n",
       " '793': 'oligodendrocyte',\n",
       " '795': 'oligodendrocyte',\n",
       " '796': 'oligodendrocyte',\n",
       " '799': 'oligodendrocyte',\n",
       " '794': 'GABAergic neuron',\n",
       " '798': 'GABAergic neuron',\n",
       " '805': 'GABAergic neuron',\n",
       " '809': 'GABAergic neuron',\n",
       " '810': 'GABAergic neuron',\n",
       " '797': 'mural cell',\n",
       " '845': 'mural cell',\n",
       " '849': 'mural cell',\n",
       " '861': 'mural cell',\n",
       " '885': 'mural cell',\n",
       " '802': 'oligodendrocyte precursor cell',\n",
       " '827': 'oligodendrocyte precursor cell',\n",
       " '832': 'oligodendrocyte precursor cell',\n",
       " '850': 'oligodendrocyte precursor cell',\n",
       " '927': 'oligodendrocyte precursor cell',\n",
       " '803': 'microglial cell',\n",
       " '804': 'microglial cell',\n",
       " '817': 'microglial cell',\n",
       " '822': 'microglial cell',\n",
       " '824': 'microglial cell',\n",
       " '806': 'cerebellar granule cell',\n",
       " '818': 'cerebellar granule cell',\n",
       " '862': 'cerebellar granule cell',\n",
       " '888': 'cerebellar granule cell',\n",
       " '895': 'cerebellar granule cell',\n",
       " '813': 'capillary endothelial cell',\n",
       " '816': 'capillary endothelial cell',\n",
       " '829': 'capillary endothelial cell',\n",
       " '837': 'capillary endothelial cell',\n",
       " '880': 'capillary endothelial cell',\n",
       " '830': 'vascular associated smooth muscle cell',\n",
       " '928': 'vascular associated smooth muscle cell',\n",
       " '956': 'vascular associated smooth muscle cell',\n",
       " '1156': 'vascular associated smooth muscle cell',\n",
       " '1254': 'vascular associated smooth muscle cell',\n",
       " '843': 'glutamatergic neuron',\n",
       " '865': 'glutamatergic neuron',\n",
       " '922': 'glutamatergic neuron',\n",
       " '931': 'glutamatergic neuron',\n",
       " '969': 'glutamatergic neuron',\n",
       " '882': 'central nervous system macrophage',\n",
       " '1527': 'central nervous system macrophage',\n",
       " '2287': 'central nervous system macrophage',\n",
       " '2316': 'central nervous system macrophage',\n",
       " '2318': 'central nervous system macrophage',\n",
       " '883': 'leukocyte',\n",
       " '993': 'leukocyte',\n",
       " '1093': 'leukocyte',\n",
       " '1128': 'leukocyte',\n",
       " '1179': 'leukocyte',\n",
       " '955': 'differentiation-committed oligodendrocyte precursor',\n",
       " '1173': 'differentiation-committed oligodendrocyte precursor',\n",
       " '1511': 'differentiation-committed oligodendrocyte precursor',\n",
       " '2238': 'differentiation-committed oligodendrocyte precursor',\n",
       " '2246': 'differentiation-committed oligodendrocyte precursor',\n",
       " '1047': 'endothelial cell of artery',\n",
       " '1067': 'endothelial cell of artery',\n",
       " '1071': 'endothelial cell of artery',\n",
       " '1090': 'endothelial cell of artery',\n",
       " '1161': 'endothelial cell of artery',\n",
       " '2927': 'neuron',\n",
       " '2984': 'neuron',\n",
       " '3071': 'neuron',\n",
       " '3129': 'neuron',\n",
       " '3243': 'neuron'}"
      ]
     },
     "execution_count": 39,
     "metadata": {},
     "output_type": "execute_result"
    }
   ],
   "source": [
    "cell_dict"
   ]
  },
  {
   "cell_type": "code",
   "execution_count": 34,
   "id": "8ed4478b-69ed-4e30-a6b9-52ffc69e152b",
   "metadata": {},
   "outputs": [],
   "source": [
    "def insert_cells_embeddings_into_pinecone(embeddings, cell_dict):\n",
    "    # Ensure embeddings is a numpy array and has the correct shape\n",
    "    if not isinstance(embeddings, np.ndarray) or embeddings.ndim != 2:\n",
    "        raise ValueError(\"embeddings must be a 2D numpy array\")\n",
    "    \n",
    "    # Set up Pinecone\n",
    "    pinecone_api_key = os.getenv('PINECONE_API_KEY')\n",
    "    pc = Pinecone(api_key=pinecone_api_key)\n",
    "\n",
    "    # Specify your Pinecone index name\n",
    "    index_name = 'uceindex'\n",
    "    \n",
    "    # Ensure your Pinecone index is created beforehand or create it if not exists\n",
    "    if index_name not in pc.list_indexes().names():\n",
    "        pc.create_index(\n",
    "            name=index_name,\n",
    "            dimension=embeddings.shape[1],  # Assuming all embeddings have the same dimension\n",
    "            metric='cosine',\n",
    "            spec=ServerlessSpec(\n",
    "                cloud='gcp-starter',  # Adjust cloud provider and region as per your setup\n",
    "                region='us-central1'\n",
    "            )\n",
    "        )\n",
    "    \n",
    "    # Connect to your Pinecone index\n",
    "    index = pc.Index(name=index_name)\n",
    "    \n",
    "    # Prepare the data for insertion\n",
    "    vectors = [(str(idx), embeddings[int(idx)]) for idx in cell_dict.keys()]\n",
    "    \n",
    "    # Insert the embeddings into Pinecone\n",
    "    index.upsert(vectors=vectors)\n",
    "    \n",
    "    print(\"Cell embeddings inserted into Pinecone successfully.\")\n"
   ]
  },
  {
   "cell_type": "code",
   "execution_count": 35,
   "id": "9d5b2700-a488-4fd5-89b3-a60921e7ac5d",
   "metadata": {},
   "outputs": [
    {
     "name": "stdout",
     "output_type": "stream",
     "text": [
      "Cell embeddings inserted into Pinecone successfully.\n"
     ]
    }
   ],
   "source": [
    "insert_cells_embeddings_into_pinecone(embeddings, cell_dict)"
   ]
  },
  {
   "cell_type": "code",
   "execution_count": 36,
   "id": "144aafe1-090c-4a36-bd34-a840a2fed148",
   "metadata": {},
   "outputs": [],
   "source": [
    "def find_similar_embeddings(embedding):\n",
    "    # Set up Pinecone\n",
    "    pinecone_api_key = os.getenv('PINECONE_API_KEY')\n",
    "    pc = Pinecone(api_key=pinecone_api_key)\n",
    "\n",
    "    # Specify your Pinecone index name\n",
    "    index_name = 'uceindex'\n",
    "    \n",
    "    # Ensure the index exists\n",
    "    if index_name not in pc.list_indexes().names():\n",
    "        raise ValueError(f\"Index {index_name} does not exist. Please create the index before querying.\")\n",
    "    \n",
    "    # Connect to your Pinecone index\n",
    "    index = pc.Index(name=index_name)\n",
    "    \n",
    "    # Query the index for the 5 most similar embeddings\n",
    "    query_result = index.query(vector=[embedding.tolist()], top_k=5)\n",
    "    \n",
    "    # Extract the IDs of the most similar embeddings\n",
    "    similar_ids = [match[\"id\"] for match in query_result[\"matches\"]]\n",
    "    \n",
    "    return similar_ids"
   ]
  },
  {
   "cell_type": "code",
   "execution_count": 42,
   "id": "880c2aec-908b-4502-a4d9-5d100e87096e",
   "metadata": {},
   "outputs": [
    {
     "name": "stdout",
     "output_type": "stream",
     "text": [
      "['1', '2', '4', '3', '1173']\n",
      "astrocyte\n",
      "astrocyte\n",
      "astrocyte\n",
      "astrocyte\n",
      "differentiation-committed oligodendrocyte precursor\n"
     ]
    }
   ],
   "source": [
    "similar_cells = find_similar_embeddings(embeddings[1])\n",
    "print(similar_cells)\n",
    "for cell in similar_cells:\n",
    "    print(cell_dict[cell])"
   ]
  }
 ],
 "metadata": {
  "kernelspec": {
   "display_name": "Python 3 (ipykernel)",
   "language": "python",
   "name": "python3"
  },
  "language_info": {
   "codemirror_mode": {
    "name": "ipython",
    "version": 3
   },
   "file_extension": ".py",
   "mimetype": "text/x-python",
   "name": "python",
   "nbconvert_exporter": "python",
   "pygments_lexer": "ipython3",
   "version": "3.10.12"
  }
 },
 "nbformat": 4,
 "nbformat_minor": 5
}
